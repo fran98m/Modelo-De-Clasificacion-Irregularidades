{
 "cells": [
  {
   "cell_type": "markdown",
   "metadata": {},
   "source": [
    "### Import Libraries"
   ]
  },
  {
   "cell_type": "code",
   "execution_count": 1,
   "metadata": {},
   "outputs": [],
   "source": [
    "import pandas as pd\n",
    "import numpy as np\n",
    "import base\n",
    "import os\n",
    "\n",
    "from const import ROOT_DIR"
   ]
  },
  {
   "cell_type": "markdown",
   "metadata": {},
   "source": [
    "### Load and preprocess"
   ]
  },
  {
   "cell_type": "code",
   "execution_count": 3,
   "metadata": {},
   "outputs": [
    {
     "name": "stderr",
     "output_type": "stream",
     "text": [
      "c:\\otros\\ClassificationOfIrregularities\\src\\base.py:47: FutureWarning: Defining usecols with out of bounds indices is deprecated and will raise a ParserError in a future version.\n",
      "  bases.append(pd.read_csv(path, **properties))\n"
     ]
    },
    {
     "ename": "KeyError",
     "evalue": "'valor_sancion'",
     "output_type": "error",
     "traceback": [
      "\u001b[1;31m---------------------------------------------------------------------------\u001b[0m",
      "\u001b[1;31mKeyError\u001b[0m                                  Traceback (most recent call last)",
      "File \u001b[1;32mc:\\Users\\Dell\\.virtualenvs\\ClassificationOfIrregularities-IGmJjmlJ\\lib\\site-packages\\pandas\\core\\indexes\\base.py:3621\u001b[0m, in \u001b[0;36mIndex.get_loc\u001b[1;34m(self, key, method, tolerance)\u001b[0m\n\u001b[0;32m   3620\u001b[0m \u001b[39mtry\u001b[39;00m:\n\u001b[1;32m-> 3621\u001b[0m     \u001b[39mreturn\u001b[39;00m \u001b[39mself\u001b[39;49m\u001b[39m.\u001b[39;49m_engine\u001b[39m.\u001b[39;49mget_loc(casted_key)\n\u001b[0;32m   3622\u001b[0m \u001b[39mexcept\u001b[39;00m \u001b[39mKeyError\u001b[39;00m \u001b[39mas\u001b[39;00m err:\n",
      "File \u001b[1;32mc:\\Users\\Dell\\.virtualenvs\\ClassificationOfIrregularities-IGmJjmlJ\\lib\\site-packages\\pandas\\_libs\\index.pyx:136\u001b[0m, in \u001b[0;36mpandas._libs.index.IndexEngine.get_loc\u001b[1;34m()\u001b[0m\n",
      "File \u001b[1;32mc:\\Users\\Dell\\.virtualenvs\\ClassificationOfIrregularities-IGmJjmlJ\\lib\\site-packages\\pandas\\_libs\\index.pyx:163\u001b[0m, in \u001b[0;36mpandas._libs.index.IndexEngine.get_loc\u001b[1;34m()\u001b[0m\n",
      "File \u001b[1;32mpandas\\_libs\\hashtable_class_helper.pxi:5198\u001b[0m, in \u001b[0;36mpandas._libs.hashtable.PyObjectHashTable.get_item\u001b[1;34m()\u001b[0m\n",
      "File \u001b[1;32mpandas\\_libs\\hashtable_class_helper.pxi:5206\u001b[0m, in \u001b[0;36mpandas._libs.hashtable.PyObjectHashTable.get_item\u001b[1;34m()\u001b[0m\n",
      "\u001b[1;31mKeyError\u001b[0m: 'valor_sancion'",
      "\nThe above exception was the direct cause of the following exception:\n",
      "\u001b[1;31mKeyError\u001b[0m                                  Traceback (most recent call last)",
      "\u001b[1;32mc:\\otros\\ClassificationOfIrregularities\\src\\main.ipynb Celda 4\u001b[0m in \u001b[0;36m<cell line: 4>\u001b[1;34m()\u001b[0m\n\u001b[0;32m      <a href='vscode-notebook-cell:/c%3A/otros/ClassificationOfIrregularities/src/main.ipynb#ch0000003?line=0'>1</a>\u001b[0m general_path \u001b[39m=\u001b[39m os\u001b[39m.\u001b[39mpath\u001b[39m.\u001b[39mjoin(ROOT_DIR, \u001b[39m\"\u001b[39m\u001b[39mfiles/bases/general.csv\u001b[39m\u001b[39m\"\u001b[39m)\n\u001b[0;32m      <a href='vscode-notebook-cell:/c%3A/otros/ClassificationOfIrregularities/src/main.ipynb#ch0000003?line=1'>2</a>\u001b[0m fines_path \u001b[39m=\u001b[39m os\u001b[39m.\u001b[39mpath\u001b[39m.\u001b[39mjoin(ROOT_DIR, \u001b[39m\"\u001b[39m\u001b[39mfiles/bases/multas.csv\u001b[39m\u001b[39m\"\u001b[39m)\n\u001b[1;32m----> <a href='vscode-notebook-cell:/c%3A/otros/ClassificationOfIrregularities/src/main.ipynb#ch0000003?line=3'>4</a>\u001b[0m data \u001b[39m=\u001b[39m base\u001b[39m.\u001b[39;49mBase\u001b[39m.\u001b[39;49mload_data([\n\u001b[0;32m      <a href='vscode-notebook-cell:/c%3A/otros/ClassificationOfIrregularities/src/main.ipynb#ch0000003?line=4'>5</a>\u001b[0m     fines_path,\n\u001b[0;32m      <a href='vscode-notebook-cell:/c%3A/otros/ClassificationOfIrregularities/src/main.ipynb#ch0000003?line=5'>6</a>\u001b[0m     general_path\n\u001b[0;32m      <a href='vscode-notebook-cell:/c%3A/otros/ClassificationOfIrregularities/src/main.ipynb#ch0000003?line=6'>7</a>\u001b[0m ])\n",
      "File \u001b[1;32mc:\\otros\\ClassificationOfIrregularities\\src\\base.py:49\u001b[0m, in \u001b[0;36mBase.load_data\u001b[1;34m(cls, paths)\u001b[0m\n\u001b[0;32m     46\u001b[0m \u001b[39mfor\u001b[39;00m path, properties \u001b[39min\u001b[39;00m \u001b[39mzip\u001b[39m(paths[:\u001b[39m2\u001b[39m], [FINES_BASE_PROPERTIES, GENERAL_BASE_PROPERTIES]):\n\u001b[0;32m     47\u001b[0m     bases\u001b[39m.\u001b[39mappend(pd\u001b[39m.\u001b[39mread_csv(path, \u001b[39m*\u001b[39m\u001b[39m*\u001b[39mproperties))\n\u001b[1;32m---> 49\u001b[0m \u001b[39mreturn\u001b[39;00m \u001b[39mcls\u001b[39;49m(\n\u001b[0;32m     50\u001b[0m     base_left \u001b[39m=\u001b[39;49m bases[\u001b[39m0\u001b[39;49m],\n\u001b[0;32m     51\u001b[0m     base_right \u001b[39m=\u001b[39;49m bases[\u001b[39m1\u001b[39;49m],\n\u001b[0;32m     52\u001b[0m )\n",
      "File \u001b[1;32mc:\\otros\\ClassificationOfIrregularities\\src\\base.py:13\u001b[0m, in \u001b[0;36mBase.__init__\u001b[1;34m(self, base_left, base_right, *args, **kargs)\u001b[0m\n\u001b[0;32m     11\u001b[0m \u001b[39mself\u001b[39m\u001b[39m.\u001b[39mbase \u001b[39m=\u001b[39m \u001b[39mNone\u001b[39;00m\n\u001b[0;32m     12\u001b[0m \u001b[39mself\u001b[39m\u001b[39m.\u001b[39menconders \u001b[39m=\u001b[39m {}\n\u001b[1;32m---> 13\u001b[0m \u001b[39mself\u001b[39;49m\u001b[39m.\u001b[39;49m__merge_bases()\n",
      "File \u001b[1;32mc:\\otros\\ClassificationOfIrregularities\\src\\base.py:28\u001b[0m, in \u001b[0;36mBase.__merge_bases\u001b[1;34m(self)\u001b[0m\n\u001b[0;32m     21\u001b[0m \u001b[39mself\u001b[39m\u001b[39m.\u001b[39mbase \u001b[39m=\u001b[39m pd\u001b[39m.\u001b[39mmerge(\u001b[39mself\u001b[39m\u001b[39m.\u001b[39mbase_left, \n\u001b[0;32m     22\u001b[0m     \u001b[39mself\u001b[39m\u001b[39m.\u001b[39mbase_right, \n\u001b[0;32m     23\u001b[0m     on\u001b[39m=\u001b[39m\u001b[39m\"\u001b[39m\u001b[39mcontrato\u001b[39m\u001b[39m\"\u001b[39m, \n\u001b[0;32m     24\u001b[0m     how\u001b[39m=\u001b[39m\u001b[39m\"\u001b[39m\u001b[39mleft\u001b[39m\u001b[39m\"\u001b[39m)\n\u001b[0;32m     26\u001b[0m \u001b[39m# Se crea una columna de 0 y 1 teniendo en cuenta si la columna tiene un valor en la sanción o no y luego se la agrega a la base de datos\u001b[39;00m\n\u001b[0;32m     27\u001b[0m \u001b[39m#Ademas se reemplazan los missing values en la columna de irregularidades por 0\u001b[39;00m\n\u001b[1;32m---> 28\u001b[0m \u001b[39mself\u001b[39m\u001b[39m.\u001b[39mbase[\u001b[39m\"\u001b[39m\u001b[39mirregularidades\u001b[39m\u001b[39m\"\u001b[39m] \u001b[39m=\u001b[39m (\u001b[39mself\u001b[39;49m\u001b[39m.\u001b[39;49mbase[\u001b[39m\"\u001b[39;49m\u001b[39mvalor_sancion\u001b[39;49m\u001b[39m\"\u001b[39;49m]\u001b[39m.\u001b[39mnotnull() \u001b[39m|\u001b[39m \u001b[39mself\u001b[39m\u001b[39m.\u001b[39mbase[\u001b[39m\"\u001b[39m\u001b[39mvalor_sancion\u001b[39m\u001b[39m\"\u001b[39m]\u001b[39m.\u001b[39misna())\u001b[39m.\u001b[39mastype(\u001b[39m'\u001b[39m\u001b[39mint\u001b[39m\u001b[39m'\u001b[39m)\n\u001b[0;32m     30\u001b[0m \u001b[39mself\u001b[39m\u001b[39m.\u001b[39mbase\u001b[39m.\u001b[39mdrop([\u001b[39m\"\u001b[39m\u001b[39mcontrato\u001b[39m\u001b[39m\"\u001b[39m, \u001b[39m\"\u001b[39m\u001b[39msancion\u001b[39m\u001b[39m\"\u001b[39m], axis\u001b[39m=\u001b[39m\u001b[39m1\u001b[39m, inplace\u001b[39m=\u001b[39m\u001b[39mTrue\u001b[39;00m)\n\u001b[0;32m     31\u001b[0m \u001b[39mself\u001b[39m\u001b[39m.\u001b[39mbase\u001b[39m.\u001b[39mcolumns \u001b[39m=\u001b[39m [col\u001b[39m.\u001b[39mlower()\u001b[39m.\u001b[39mreplace(\u001b[39m'\u001b[39m\u001b[39m \u001b[39m\u001b[39m'\u001b[39m, \u001b[39m'\u001b[39m\u001b[39m_\u001b[39m\u001b[39m'\u001b[39m) \u001b[39mfor\u001b[39;00m col \u001b[39min\u001b[39;00m \u001b[39mself\u001b[39m\u001b[39m.\u001b[39mbase\u001b[39m.\u001b[39mcolumns]\n",
      "File \u001b[1;32mc:\\Users\\Dell\\.virtualenvs\\ClassificationOfIrregularities-IGmJjmlJ\\lib\\site-packages\\pandas\\core\\frame.py:3505\u001b[0m, in \u001b[0;36mDataFrame.__getitem__\u001b[1;34m(self, key)\u001b[0m\n\u001b[0;32m   3503\u001b[0m \u001b[39mif\u001b[39;00m \u001b[39mself\u001b[39m\u001b[39m.\u001b[39mcolumns\u001b[39m.\u001b[39mnlevels \u001b[39m>\u001b[39m \u001b[39m1\u001b[39m:\n\u001b[0;32m   3504\u001b[0m     \u001b[39mreturn\u001b[39;00m \u001b[39mself\u001b[39m\u001b[39m.\u001b[39m_getitem_multilevel(key)\n\u001b[1;32m-> 3505\u001b[0m indexer \u001b[39m=\u001b[39m \u001b[39mself\u001b[39;49m\u001b[39m.\u001b[39;49mcolumns\u001b[39m.\u001b[39;49mget_loc(key)\n\u001b[0;32m   3506\u001b[0m \u001b[39mif\u001b[39;00m is_integer(indexer):\n\u001b[0;32m   3507\u001b[0m     indexer \u001b[39m=\u001b[39m [indexer]\n",
      "File \u001b[1;32mc:\\Users\\Dell\\.virtualenvs\\ClassificationOfIrregularities-IGmJjmlJ\\lib\\site-packages\\pandas\\core\\indexes\\base.py:3623\u001b[0m, in \u001b[0;36mIndex.get_loc\u001b[1;34m(self, key, method, tolerance)\u001b[0m\n\u001b[0;32m   3621\u001b[0m     \u001b[39mreturn\u001b[39;00m \u001b[39mself\u001b[39m\u001b[39m.\u001b[39m_engine\u001b[39m.\u001b[39mget_loc(casted_key)\n\u001b[0;32m   3622\u001b[0m \u001b[39mexcept\u001b[39;00m \u001b[39mKeyError\u001b[39;00m \u001b[39mas\u001b[39;00m err:\n\u001b[1;32m-> 3623\u001b[0m     \u001b[39mraise\u001b[39;00m \u001b[39mKeyError\u001b[39;00m(key) \u001b[39mfrom\u001b[39;00m \u001b[39merr\u001b[39;00m\n\u001b[0;32m   3624\u001b[0m \u001b[39mexcept\u001b[39;00m \u001b[39mTypeError\u001b[39;00m:\n\u001b[0;32m   3625\u001b[0m     \u001b[39m# If we have a listlike key, _check_indexing_error will raise\u001b[39;00m\n\u001b[0;32m   3626\u001b[0m     \u001b[39m#  InvalidIndexError. Otherwise we fall through and re-raise\u001b[39;00m\n\u001b[0;32m   3627\u001b[0m     \u001b[39m#  the TypeError.\u001b[39;00m\n\u001b[0;32m   3628\u001b[0m     \u001b[39mself\u001b[39m\u001b[39m.\u001b[39m_check_indexing_error(key)\n",
      "\u001b[1;31mKeyError\u001b[0m: 'valor_sancion'"
     ]
    }
   ],
   "source": [
    "general_path = os.path.join(ROOT_DIR, \"files/bases/general.csv\")\n",
    "fines_path = os.path.join(ROOT_DIR, \"files/bases/multas.csv\")\n",
    "\n",
    "data = base.Base.load_data([\n",
    "    fines_path,\n",
    "    general_path\n",
    "])  "
   ]
  },
  {
   "cell_type": "code",
   "execution_count": null,
   "metadata": {},
   "outputs": [],
   "source": [
    "\n",
    "\n",
    "data[\"\"]"
   ]
  },
  {
   "cell_type": "markdown",
   "metadata": {},
   "source": [
    "## Limpieza de las bases\n",
    "\n",
    "### Eliminación de Variables inecesarias\n",
    "- Se va a eliminar Año cargue secop, dado que el año en el que se subió a la base de datos no es un indicador de si el contrato puede ser corrupto o no\n",
    "- Se va a eliminar Detalle del objeto a contratar dado que está duplicada y se tiene el detalle a la hora de firmar el contrato que es más diciente.\n",
    "- Se van a eliminar las fechas de iniciacion y finalización del contrato dado que se tiene el tiempo de duración y el de las adiciones\n",
    "- Se va a eliminar la fecha de firma del contrato. \n",
    "- Proponentes seleccionados tiene la misma información que las variables de representante legal y del contratista.\n",
    "#### **Identificadores:** Los identificadores no son utiles para la clasificación de los contratos en corruptos o no, simplemente se utilizan para identificar a los contratos.\n",
    "- Compromiso Presupuestal\n",
    "- Codigo BPIN \n",
    "- Numero de constancia\n",
    "- Numero de proceso\n",
    "- Numero de contrato (Se va a usar para pegar ambas bases y luego se va a eliminar)\n",
    "- Id Adjudicación\n",
    "\n",
    "#### Para la base de Multas\n",
    "- Se van a eliminar todas las variables, menos numero de contrato para pegar ambas bases. Luego será eliminado el numero de contrato.\n",
    "- Se va a dejar monto de la multa, para luego convertir los numero del monto a 0's y 1's para ver que efectivamente se eliminó la multa"
   ]
  },
  {
   "cell_type": "code",
   "execution_count": null,
   "metadata": {},
   "outputs": [],
   "source": [
    "base_multas.info()"
   ]
  },
  {
   "cell_type": "code",
   "execution_count": 9,
   "metadata": {},
   "outputs": [
    {
     "name": "stdout",
     "output_type": "stream",
     "text": [
      "<class 'pandas.core.frame.DataFrame'>\n",
      "RangeIndex: 2749575 entries, 0 to 2749574\n",
      "Data columns (total 53 columns):\n",
      " #   Column                                          Dtype  \n",
      "---  ------                                          -----  \n",
      " 0   anno_cargue_secop                               int64  \n",
      " 1   nivel_entidad                                   object \n",
      " 2   orden_entidad                                   object \n",
      " 3   nombre_de_la_entidad                            object \n",
      " 4   tipo_de_proceso                                 object \n",
      " 5   estado_del_proceso                              object \n",
      " 6   causal_de_otras_formas_de_contratacion_directa  object \n",
      " 7   regimen_de_contratacion                         object \n",
      " 8   objeto_a_contratar                              object \n",
      " 9   tipo_de_contrato                                object \n",
      " 10  municipio_obtencion                             object \n",
      " 11  municipio_entrega                               object \n",
      " 12  municipios_ejecucion                            object \n",
      " 13  numero_de_constancia                            object \n",
      " 14  detalle_del_objeto_a_contratar                  object \n",
      " 15  numero_de_proceso                               object \n",
      " 16  numero_del_contrato                             object \n",
      " 17  cuantia_proceso                                 float64\n",
      " 18  nombre_grupo                                    object \n",
      " 19  nombre_familia                                  object \n",
      " 20  nombre_clase                                    object \n",
      " 21  id_ajudicacion                                  int64  \n",
      " 22  tipo_identifi_del_contratista                   object \n",
      " 23  nom_raz_social_contratista                      object \n",
      " 24  tipo_doc_representante_legal                    object \n",
      " 25  nombre_del_represen_legal                       object \n",
      " 26  dpto_y_muni_contratista                         object \n",
      " 27  fecha_de_firma_del_contrato                     object \n",
      " 28  plazo_de_ejec_del_contrato                      int64  \n",
      " 29  fecha_ini_ejec_contrato                         object \n",
      " 30  tiempo_adiciones_en_dias                        int64  \n",
      " 31  tiempo_adiciones_en_meses                       int64  \n",
      " 32  fecha_fin_ejec_contrato                         object \n",
      " 33  compromiso_presupuestal                         object \n",
      " 34  cuantia_contrato                                float64\n",
      " 35  valor_total_de_adiciones                        float64\n",
      " 36  valor_contrato_con_adiciones                    float64\n",
      " 37  objeto_del_contrato_a_la_firma                  object \n",
      " 38  origen_de_los_recursos                          object \n",
      " 39  codigo_bpin                                     object \n",
      " 40  proponentes_seleccionados                       object \n",
      " 41  calificacion_definitiva                         object \n",
      " 42  nombre_sub_unidad_ejecutora                     object \n",
      " 43  moneda                                          object \n",
      " 44  espostconflicto                                 object \n",
      " 45  marcacion_adiciones                             int64  \n",
      " 46  nombre_rubro                                    object \n",
      " 47  valor_rubro                                     float64\n",
      " 48  sexo_replegal_entidad                           object \n",
      " 49  pilar_acuerdo_paz                               object \n",
      " 50  punto_acuerdo_paz                               object \n",
      " 51  municipio_entidad                               object \n",
      " 52  departamento_entidad                            object \n",
      "dtypes: float64(5), int64(6), object(42)\n",
      "memory usage: 1.1+ GB\n"
     ]
    }
   ],
   "source": [
    "base_datos.info()"
   ]
  },
  {
   "cell_type": "markdown",
   "metadata": {},
   "source": [
    "## Se van a pegar ambas bases con base en el numero de contrato"
   ]
  },
  {
   "cell_type": "code",
   "execution_count": null,
   "metadata": {},
   "outputs": [],
   "source": []
  },
  {
   "cell_type": "code",
   "execution_count": 9,
   "metadata": {},
   "outputs": [
    {
     "name": "stdout",
     "output_type": "stream",
     "text": [
      "<class 'pandas.core.frame.DataFrame'>\n",
      "Int64Index: 2815396 entries, 0 to 2815395\n",
      "Data columns (total 43 columns):\n",
      " #   Column                                          Dtype  \n",
      "---  ------                                          -----  \n",
      " 0   nivel_entidad                                   object \n",
      " 1   orden_entidad                                   object \n",
      " 2   nombre_de_la_entidad                            object \n",
      " 3   tipo_de_proceso                                 object \n",
      " 4   estado_del_proceso                              object \n",
      " 5   causal_de_otras_formas_de_contratacion_directa  object \n",
      " 6   regimen_de_contratacion                         object \n",
      " 7   objeto_a_contratar                              object \n",
      " 8   tipo_de_contrato                                object \n",
      " 9   municipio_obtencion                             object \n",
      " 10  municipio_entrega                               object \n",
      " 11  municipios_ejecucion                            object \n",
      " 12  numero_de_contrato                              object \n",
      " 13  cuantia_proceso                                 float64\n",
      " 14  nombre_grupo                                    object \n",
      " 15  nombre_familia                                  object \n",
      " 16  nombre_clase                                    object \n",
      " 17  tipo_identifi_del_contratista                   object \n",
      " 18  nom_raz_social_contratista                      object \n",
      " 19  tipo_doc_representante_legal                    object \n",
      " 20  nombre_del_represen_legal                       object \n",
      " 21  dpto_y_muni_contratista                         object \n",
      " 22  plazo_de_ejec_del_contrato                      int64  \n",
      " 23  tiempo_adiciones_en_dias                        int64  \n",
      " 24  tiempo_adiciones_en_meses                       int64  \n",
      " 25  cuantia_contrato                                float64\n",
      " 26  valor_total_de_adiciones                        float64\n",
      " 27  valor_contrato_con_adiciones                    float64\n",
      " 28  objeto_del_contrato_a_la_firma                  object \n",
      " 29  origen_de_los_recursos                          object \n",
      " 30  calificacion_definitiva                         object \n",
      " 31  nombre_sub_unidad_ejecutora                     object \n",
      " 32  moneda                                          object \n",
      " 33  espostconflicto                                 object \n",
      " 34  marcacion_adiciones                             int64  \n",
      " 35  nombre_rubro                                    object \n",
      " 36  valor_rubro                                     float64\n",
      " 37  sexo_replegal_entidad                           object \n",
      " 38  pilar_acuerdo_paz                               object \n",
      " 39  punto_acuerdo_paz                               object \n",
      " 40  municipio_entidad                               object \n",
      " 41  departamento_entidad                            object \n",
      " 42  valor_sancion                                   float64\n",
      "dtypes: float64(6), int64(4), object(33)\n",
      "memory usage: 945.1+ MB\n"
     ]
    }
   ],
   "source": [
    "base = preprocess_base(base_datos, base_multas)\n",
    "base.info()"
   ]
  },
  {
   "cell_type": "code",
   "execution_count": 25,
   "metadata": {},
   "outputs": [
    {
     "data": {
      "text/html": [
       "<div>\n",
       "<style scoped>\n",
       "    .dataframe tbody tr th:only-of-type {\n",
       "        vertical-align: middle;\n",
       "    }\n",
       "\n",
       "    .dataframe tbody tr th {\n",
       "        vertical-align: top;\n",
       "    }\n",
       "\n",
       "    .dataframe thead th {\n",
       "        text-align: right;\n",
       "    }\n",
       "</style>\n",
       "<table border=\"1\" class=\"dataframe\">\n",
       "  <thead>\n",
       "    <tr style=\"text-align: right;\">\n",
       "      <th></th>\n",
       "      <th>nivel_entidad</th>\n",
       "      <th>orden_entidad</th>\n",
       "      <th>nombre_de_la_entidad</th>\n",
       "      <th>tipo_de_proceso</th>\n",
       "      <th>estado_del_proceso</th>\n",
       "      <th>causal_de_otras_formas_de_contratacion_directa</th>\n",
       "      <th>regimen_de_contratacion</th>\n",
       "      <th>objeto_a_contratar</th>\n",
       "      <th>tipo_de_contrato</th>\n",
       "      <th>municipio_obtencion</th>\n",
       "      <th>...</th>\n",
       "      <th>marcacion_adiciones</th>\n",
       "      <th>nombre_rubro</th>\n",
       "      <th>valor_rubro</th>\n",
       "      <th>sexo_replegal_entidad</th>\n",
       "      <th>pilar_acuerdo_paz</th>\n",
       "      <th>punto_acuerdo_paz</th>\n",
       "      <th>municipio_entidad</th>\n",
       "      <th>departamento_entidad</th>\n",
       "      <th>valor_sancion</th>\n",
       "      <th>irregularidades</th>\n",
       "    </tr>\n",
       "  </thead>\n",
       "  <tbody>\n",
       "    <tr>\n",
       "      <th>0</th>\n",
       "      <td>NACIONAL</td>\n",
       "      <td>NACIONAL CENTRALIZADO</td>\n",
       "      <td>MINISTERIO DE JUSTICIA Y DEL DERECHO MINJUSTICIA</td>\n",
       "      <td>Selección Abreviada de Menor Cuantía (Ley 1150...</td>\n",
       "      <td>Liquidado</td>\n",
       "      <td>No Definido</td>\n",
       "      <td>Selección Abreviada de Menor Cuantía (Ley 1150...</td>\n",
       "      <td>Difusión de Tecnologías de Información y Telec...</td>\n",
       "      <td>Prestación de Servicios</td>\n",
       "      <td>Bogotá D.C.</td>\n",
       "      <td>...</td>\n",
       "      <td>0</td>\n",
       "      <td>No Definido</td>\n",
       "      <td>0.0</td>\n",
       "      <td>N</td>\n",
       "      <td>No Definido</td>\n",
       "      <td>No Definido</td>\n",
       "      <td>Bogotá D.C.</td>\n",
       "      <td>Bogotá D.C.</td>\n",
       "      <td>53771025.0</td>\n",
       "      <td>1</td>\n",
       "    </tr>\n",
       "    <tr>\n",
       "      <th>1</th>\n",
       "      <td>NACIONAL</td>\n",
       "      <td>NACIONAL DESCENTRALIZADO</td>\n",
       "      <td>CORTOLIMA  CORPORACIÓN AUTÓNOMA REGIONAL DEL T...</td>\n",
       "      <td>Concurso de Méritos Abierto</td>\n",
       "      <td>Liquidado</td>\n",
       "      <td>No Definido</td>\n",
       "      <td>Concurso de Méritos Abierto</td>\n",
       "      <td>Servicios Medioambientales</td>\n",
       "      <td>Otro Tipo de Contrato</td>\n",
       "      <td>Ibagué</td>\n",
       "      <td>...</td>\n",
       "      <td>0</td>\n",
       "      <td>No Definido</td>\n",
       "      <td>0.0</td>\n",
       "      <td>N</td>\n",
       "      <td>No Definido</td>\n",
       "      <td>No Definido</td>\n",
       "      <td>Ibagué</td>\n",
       "      <td>Tolima</td>\n",
       "      <td>NaN</td>\n",
       "      <td>0</td>\n",
       "    </tr>\n",
       "    <tr>\n",
       "      <th>2</th>\n",
       "      <td>NACIONAL</td>\n",
       "      <td>NACIONAL DESCENTRALIZADO</td>\n",
       "      <td>CORTOLIMA  CORPORACIÓN AUTÓNOMA REGIONAL DEL T...</td>\n",
       "      <td>Concurso de Méritos Abierto</td>\n",
       "      <td>Liquidado</td>\n",
       "      <td>No Definido</td>\n",
       "      <td>Concurso de Méritos Abierto</td>\n",
       "      <td>Servicios Medioambientales</td>\n",
       "      <td>Otro Tipo de Contrato</td>\n",
       "      <td>Ibagué</td>\n",
       "      <td>...</td>\n",
       "      <td>0</td>\n",
       "      <td>No Definido</td>\n",
       "      <td>0.0</td>\n",
       "      <td>N</td>\n",
       "      <td>No Definido</td>\n",
       "      <td>No Definido</td>\n",
       "      <td>Ibagué</td>\n",
       "      <td>Tolima</td>\n",
       "      <td>NaN</td>\n",
       "      <td>0</td>\n",
       "    </tr>\n",
       "    <tr>\n",
       "      <th>3</th>\n",
       "      <td>NACIONAL</td>\n",
       "      <td>NACIONAL DESCENTRALIZADO</td>\n",
       "      <td>CORTOLIMA  CORPORACIÓN AUTÓNOMA REGIONAL DEL T...</td>\n",
       "      <td>Concurso de Méritos Abierto</td>\n",
       "      <td>Liquidado</td>\n",
       "      <td>No Definido</td>\n",
       "      <td>Concurso de Méritos Abierto</td>\n",
       "      <td>Servicios Financieros y de Seguros</td>\n",
       "      <td>Prestación de Servicios</td>\n",
       "      <td>Ibagué</td>\n",
       "      <td>...</td>\n",
       "      <td>0</td>\n",
       "      <td>No Definido</td>\n",
       "      <td>0.0</td>\n",
       "      <td>N</td>\n",
       "      <td>No Definido</td>\n",
       "      <td>No Definido</td>\n",
       "      <td>Ibagué</td>\n",
       "      <td>Tolima</td>\n",
       "      <td>NaN</td>\n",
       "      <td>0</td>\n",
       "    </tr>\n",
       "    <tr>\n",
       "      <th>4</th>\n",
       "      <td>NACIONAL</td>\n",
       "      <td>NACIONAL DESCENTRALIZADO</td>\n",
       "      <td>CORTOLIMA  CORPORACIÓN AUTÓNOMA REGIONAL DEL T...</td>\n",
       "      <td>Selección Abreviada de Menor Cuantía (Ley 1150...</td>\n",
       "      <td>Liquidado</td>\n",
       "      <td>No Definido</td>\n",
       "      <td>Selección Abreviada de Menor Cuantía (Ley 1150...</td>\n",
       "      <td>Componentes y Suministros para Estructuras, Ed...</td>\n",
       "      <td>Otro Tipo de Contrato</td>\n",
       "      <td>Ibagué</td>\n",
       "      <td>...</td>\n",
       "      <td>0</td>\n",
       "      <td>No Definido</td>\n",
       "      <td>0.0</td>\n",
       "      <td>N</td>\n",
       "      <td>No Definido</td>\n",
       "      <td>No Definido</td>\n",
       "      <td>Ibagué</td>\n",
       "      <td>Tolima</td>\n",
       "      <td>NaN</td>\n",
       "      <td>0</td>\n",
       "    </tr>\n",
       "  </tbody>\n",
       "</table>\n",
       "<p>5 rows × 44 columns</p>\n",
       "</div>"
      ],
      "text/plain": [
       "  nivel_entidad             orden_entidad  \\\n",
       "0      NACIONAL     NACIONAL CENTRALIZADO   \n",
       "1      NACIONAL  NACIONAL DESCENTRALIZADO   \n",
       "2      NACIONAL  NACIONAL DESCENTRALIZADO   \n",
       "3      NACIONAL  NACIONAL DESCENTRALIZADO   \n",
       "4      NACIONAL  NACIONAL DESCENTRALIZADO   \n",
       "\n",
       "                                nombre_de_la_entidad  \\\n",
       "0   MINISTERIO DE JUSTICIA Y DEL DERECHO MINJUSTICIA   \n",
       "1  CORTOLIMA  CORPORACIÓN AUTÓNOMA REGIONAL DEL T...   \n",
       "2  CORTOLIMA  CORPORACIÓN AUTÓNOMA REGIONAL DEL T...   \n",
       "3  CORTOLIMA  CORPORACIÓN AUTÓNOMA REGIONAL DEL T...   \n",
       "4  CORTOLIMA  CORPORACIÓN AUTÓNOMA REGIONAL DEL T...   \n",
       "\n",
       "                                     tipo_de_proceso estado_del_proceso  \\\n",
       "0  Selección Abreviada de Menor Cuantía (Ley 1150...          Liquidado   \n",
       "1                        Concurso de Méritos Abierto          Liquidado   \n",
       "2                        Concurso de Méritos Abierto          Liquidado   \n",
       "3                        Concurso de Méritos Abierto          Liquidado   \n",
       "4  Selección Abreviada de Menor Cuantía (Ley 1150...          Liquidado   \n",
       "\n",
       "  causal_de_otras_formas_de_contratacion_directa  \\\n",
       "0                                    No Definido   \n",
       "1                                    No Definido   \n",
       "2                                    No Definido   \n",
       "3                                    No Definido   \n",
       "4                                    No Definido   \n",
       "\n",
       "                             regimen_de_contratacion  \\\n",
       "0  Selección Abreviada de Menor Cuantía (Ley 1150...   \n",
       "1                        Concurso de Méritos Abierto   \n",
       "2                        Concurso de Méritos Abierto   \n",
       "3                        Concurso de Méritos Abierto   \n",
       "4  Selección Abreviada de Menor Cuantía (Ley 1150...   \n",
       "\n",
       "                                  objeto_a_contratar         tipo_de_contrato  \\\n",
       "0  Difusión de Tecnologías de Información y Telec...  Prestación de Servicios   \n",
       "1                         Servicios Medioambientales    Otro Tipo de Contrato   \n",
       "2                         Servicios Medioambientales    Otro Tipo de Contrato   \n",
       "3                 Servicios Financieros y de Seguros  Prestación de Servicios   \n",
       "4  Componentes y Suministros para Estructuras, Ed...    Otro Tipo de Contrato   \n",
       "\n",
       "  municipio_obtencion  ... marcacion_adiciones nombre_rubro valor_rubro  \\\n",
       "0         Bogotá D.C.  ...                   0  No Definido         0.0   \n",
       "1              Ibagué  ...                   0  No Definido         0.0   \n",
       "2              Ibagué  ...                   0  No Definido         0.0   \n",
       "3              Ibagué  ...                   0  No Definido         0.0   \n",
       "4              Ibagué  ...                   0  No Definido         0.0   \n",
       "\n",
       "   sexo_replegal_entidad pilar_acuerdo_paz punto_acuerdo_paz  \\\n",
       "0                      N       No Definido       No Definido   \n",
       "1                      N       No Definido       No Definido   \n",
       "2                      N       No Definido       No Definido   \n",
       "3                      N       No Definido       No Definido   \n",
       "4                      N       No Definido       No Definido   \n",
       "\n",
       "  municipio_entidad departamento_entidad valor_sancion irregularidades  \n",
       "0       Bogotá D.C.          Bogotá D.C.    53771025.0               1  \n",
       "1            Ibagué               Tolima           NaN               0  \n",
       "2            Ibagué               Tolima           NaN               0  \n",
       "3            Ibagué               Tolima           NaN               0  \n",
       "4            Ibagué               Tolima           NaN               0  \n",
       "\n",
       "[5 rows x 44 columns]"
      ]
     },
     "execution_count": 25,
     "metadata": {},
     "output_type": "execute_result"
    }
   ],
   "source": [
    "base.head()"
   ]
  },
  {
   "cell_type": "markdown",
   "metadata": {},
   "source": [
    "- Dado que ya se tiene si el contrato fue corrupto o no y ya se pegaron ambas bases, es posible eliminar las columnas, numero de contrato y la columna de valor sancion"
   ]
  },
  {
   "cell_type": "code",
   "execution_count": 28,
   "metadata": {},
   "outputs": [],
   "source": [
    "# Vamos a tomar X_texto para el procesamento de texto el resto de variables se procesan dentro de X\n",
    "X_texto = base[\"objeto_del_contrato_a_la_firma\"]\n",
    "y=base[\"irregularidades\"]\n",
    "X=base.drop([\"objeto_del_contrato_a_la_firma\",\"irregularidades\"], axis=1)"
   ]
  },
  {
   "cell_type": "code",
   "execution_count": null,
   "metadata": {},
   "outputs": [],
   "source": [
    "#Se va a dividir el dataset en train y test\n",
    "from sklearn.model_selection import train_test_split\n",
    "X_texto_train, X_texto_test, y_train, y_test = train_test_split(X_texto, y, test_size=0.2, random_state=42)"
   ]
  },
  {
   "cell_type": "code",
   "execution_count": 29,
   "metadata": {},
   "outputs": [],
   "source": [
    "from collections import Counter\n",
    "from sklearn.datasets import make_classification\n",
    "from imblearn.under_sampling import NearMiss\n",
    "from numpy import where"
   ]
  },
  {
   "cell_type": "code",
   "execution_count": 30,
   "metadata": {},
   "outputs": [
    {
     "name": "stdout",
     "output_type": "stream",
     "text": [
      "Counter({0: 2663617, 1: 151779})\n"
     ]
    }
   ],
   "source": [
    "# Se va a usar un metodo de under sampling para que la base de datos tenga una proporcion de muestra de 0.5\n",
    "X_texto_train,y_train = make_classification(n_samples=10000, n_features=2, n_redundant=0, n_clusters_per_class=2, weights=[.99],flip_y=0, random_state=1)\n",
    "#Resumen de la distribucion de clases\n",
    "counter = Counter(y)\n",
    "print(counter)\n",
    "#Definir el metodo de under sampling\n",
    "undersample=NearMiss(version=3,n_neighbors_ver3=3)"
   ]
  },
  {
   "cell_type": "code",
   "execution_count": 31,
   "metadata": {},
   "outputs": [],
   "source": [
    "#Transformar la base de datos\n",
    "X_texto_train,y_train=undersample.fit_resample(X_texto_train,y_train)"
   ]
  },
  {
   "cell_type": "code",
   "execution_count": 32,
   "metadata": {},
   "outputs": [
    {
     "name": "stdout",
     "output_type": "stream",
     "text": [
      "Counter({0: 2663617, 1: 151779})\n"
     ]
    },
    {
     "ename": "InvalidIndexError",
     "evalue": "(array([      0,      12,      20, ..., 2815265, 2815266, 2815279]), 0)",
     "output_type": "error",
     "traceback": [
      "\u001b[0;31m---------------------------------------------------------------------------\u001b[0m",
      "\u001b[0;31mTypeError\u001b[0m                                 Traceback (most recent call last)",
      "File \u001b[0;32m/opt/anaconda3/lib/python3.8/site-packages/pandas/core/indexes/base.py:3621\u001b[0m, in \u001b[0;36mIndex.get_loc\u001b[0;34m(self, key, method, tolerance)\u001b[0m\n\u001b[1;32m   3620\u001b[0m \u001b[39mtry\u001b[39;00m:\n\u001b[0;32m-> 3621\u001b[0m     \u001b[39mreturn\u001b[39;00m \u001b[39mself\u001b[39;49m\u001b[39m.\u001b[39;49m_engine\u001b[39m.\u001b[39;49mget_loc(casted_key)\n\u001b[1;32m   3622\u001b[0m \u001b[39mexcept\u001b[39;00m \u001b[39mKeyError\u001b[39;00m \u001b[39mas\u001b[39;00m err:\n",
      "File \u001b[0;32m/opt/anaconda3/lib/python3.8/site-packages/pandas/_libs/index.pyx:136\u001b[0m, in \u001b[0;36mpandas._libs.index.IndexEngine.get_loc\u001b[0;34m()\u001b[0m\n",
      "File \u001b[0;32m/opt/anaconda3/lib/python3.8/site-packages/pandas/_libs/index.pyx:142\u001b[0m, in \u001b[0;36mpandas._libs.index.IndexEngine.get_loc\u001b[0;34m()\u001b[0m\n",
      "\u001b[0;31mTypeError\u001b[0m: '(array([      0,      12,      20, ..., 2815265, 2815266, 2815279]), 0)' is an invalid key",
      "\nDuring handling of the above exception, another exception occurred:\n",
      "\u001b[0;31mInvalidIndexError\u001b[0m                         Traceback (most recent call last)",
      "\u001b[1;32m/Users/franciscomontalvo/Documents/Intersemestral 2022/AI For Social Sciences/Trabajo Final/Taller FINAL.ipynb Cell 23'\u001b[0m in \u001b[0;36m<cell line: 5>\u001b[0;34m()\u001b[0m\n\u001b[1;32m      <a href='vscode-notebook-cell:/Users/franciscomontalvo/Documents/Intersemestral%202022/AI%20For%20Social%20Sciences/Trabajo%20Final/Taller%20FINAL.ipynb#ch0000022?line=4'>5</a>\u001b[0m \u001b[39mfor\u001b[39;00m label, _ \u001b[39min\u001b[39;00m counter\u001b[39m.\u001b[39mitems():\n\u001b[1;32m      <a href='vscode-notebook-cell:/Users/franciscomontalvo/Documents/Intersemestral%202022/AI%20For%20Social%20Sciences/Trabajo%20Final/Taller%20FINAL.ipynb#ch0000022?line=5'>6</a>\u001b[0m     row_ix \u001b[39m=\u001b[39m where(y\u001b[39m==\u001b[39mlabel)[\u001b[39m0\u001b[39m]\n\u001b[0;32m----> <a href='vscode-notebook-cell:/Users/franciscomontalvo/Documents/Intersemestral%202022/AI%20For%20Social%20Sciences/Trabajo%20Final/Taller%20FINAL.ipynb#ch0000022?line=6'>7</a>\u001b[0m     plt\u001b[39m.\u001b[39mscatter(X[row_ix,\u001b[39m0\u001b[39;49m],X[row_ix,\u001b[39m1\u001b[39m],label\u001b[39m=\u001b[39m\u001b[39mstr\u001b[39m(label))\n\u001b[1;32m      <a href='vscode-notebook-cell:/Users/franciscomontalvo/Documents/Intersemestral%202022/AI%20For%20Social%20Sciences/Trabajo%20Final/Taller%20FINAL.ipynb#ch0000022?line=7'>8</a>\u001b[0m plt\u001b[39m.\u001b[39mlegend()\n\u001b[1;32m      <a href='vscode-notebook-cell:/Users/franciscomontalvo/Documents/Intersemestral%202022/AI%20For%20Social%20Sciences/Trabajo%20Final/Taller%20FINAL.ipynb#ch0000022?line=8'>9</a>\u001b[0m plt\u001b[39m.\u001b[39mshow()\n",
      "File \u001b[0;32m/opt/anaconda3/lib/python3.8/site-packages/pandas/core/frame.py:3505\u001b[0m, in \u001b[0;36mDataFrame.__getitem__\u001b[0;34m(self, key)\u001b[0m\n\u001b[1;32m   3503\u001b[0m \u001b[39mif\u001b[39;00m \u001b[39mself\u001b[39m\u001b[39m.\u001b[39mcolumns\u001b[39m.\u001b[39mnlevels \u001b[39m>\u001b[39m \u001b[39m1\u001b[39m:\n\u001b[1;32m   3504\u001b[0m     \u001b[39mreturn\u001b[39;00m \u001b[39mself\u001b[39m\u001b[39m.\u001b[39m_getitem_multilevel(key)\n\u001b[0;32m-> 3505\u001b[0m indexer \u001b[39m=\u001b[39m \u001b[39mself\u001b[39;49m\u001b[39m.\u001b[39;49mcolumns\u001b[39m.\u001b[39;49mget_loc(key)\n\u001b[1;32m   3506\u001b[0m \u001b[39mif\u001b[39;00m is_integer(indexer):\n\u001b[1;32m   3507\u001b[0m     indexer \u001b[39m=\u001b[39m [indexer]\n",
      "File \u001b[0;32m/opt/anaconda3/lib/python3.8/site-packages/pandas/core/indexes/base.py:3628\u001b[0m, in \u001b[0;36mIndex.get_loc\u001b[0;34m(self, key, method, tolerance)\u001b[0m\n\u001b[1;32m   3623\u001b[0m         \u001b[39mraise\u001b[39;00m \u001b[39mKeyError\u001b[39;00m(key) \u001b[39mfrom\u001b[39;00m \u001b[39merr\u001b[39;00m\n\u001b[1;32m   3624\u001b[0m     \u001b[39mexcept\u001b[39;00m \u001b[39mTypeError\u001b[39;00m:\n\u001b[1;32m   3625\u001b[0m         \u001b[39m# If we have a listlike key, _check_indexing_error will raise\u001b[39;00m\n\u001b[1;32m   3626\u001b[0m         \u001b[39m#  InvalidIndexError. Otherwise we fall through and re-raise\u001b[39;00m\n\u001b[1;32m   3627\u001b[0m         \u001b[39m#  the TypeError.\u001b[39;00m\n\u001b[0;32m-> 3628\u001b[0m         \u001b[39mself\u001b[39;49m\u001b[39m.\u001b[39;49m_check_indexing_error(key)\n\u001b[1;32m   3629\u001b[0m         \u001b[39mraise\u001b[39;00m\n\u001b[1;32m   3631\u001b[0m \u001b[39m# GH#42269\u001b[39;00m\n",
      "File \u001b[0;32m/opt/anaconda3/lib/python3.8/site-packages/pandas/core/indexes/base.py:5637\u001b[0m, in \u001b[0;36mIndex._check_indexing_error\u001b[0;34m(self, key)\u001b[0m\n\u001b[1;32m   5633\u001b[0m \u001b[39mdef\u001b[39;00m \u001b[39m_check_indexing_error\u001b[39m(\u001b[39mself\u001b[39m, key):\n\u001b[1;32m   5634\u001b[0m     \u001b[39mif\u001b[39;00m \u001b[39mnot\u001b[39;00m is_scalar(key):\n\u001b[1;32m   5635\u001b[0m         \u001b[39m# if key is not a scalar, directly raise an error (the code below\u001b[39;00m\n\u001b[1;32m   5636\u001b[0m         \u001b[39m# would convert to numpy arrays and raise later any way) - GH29926\u001b[39;00m\n\u001b[0;32m-> 5637\u001b[0m         \u001b[39mraise\u001b[39;00m InvalidIndexError(key)\n",
      "\u001b[0;31mInvalidIndexError\u001b[0m: (array([      0,      12,      20, ..., 2815265, 2815266, 2815279]), 0)"
     ]
    }
   ],
   "source": [
    "counter=Counter(y)\n",
    "print(counter)\n",
    "#Hacer un scatter plot de los ejemplos por class label\n",
    "import matplotlib.pyplot as plt\n",
    "for label, _ in counter.items():\n",
    "    row_ix = where(y==label)[0]\n",
    "    plt.scatter(X[row_ix,0],X[row_ix,1],label=str(label))\n",
    "plt.legend()\n",
    "plt.show()"
   ]
  },
  {
   "cell_type": "markdown",
   "metadata": {},
   "source": [
    "## Implementación de BETO"
   ]
  },
  {
   "cell_type": "code",
   "execution_count": 37,
   "metadata": {},
   "outputs": [
    {
     "name": "stderr",
     "output_type": "stream",
     "text": [
      "UsageError: Line magic function `%wget` not found.\n"
     ]
    }
   ],
   "source": [
    "%wget https://users.dcc.uchile.cl/~jperez/beto/cased_2M/pytorch_weights.tar.gz \n",
    "%wget https://users.dcc.uchile.cl/~jperez/beto/cased_2M/vocab.txt \n",
    "%wget https://users.dcc.uchile.cl/~jperez/beto/cased_2M/config.json \n",
    "%tar -xzvf pytorch_weights.tar.gz\n",
    "%mv config.json pytorch/.\n",
    "%mv vocab.txt pytorch/."
   ]
  },
  {
   "cell_type": "code",
   "execution_count": 1,
   "metadata": {},
   "outputs": [
    {
     "name": "stdout",
     "output_type": "stream",
     "text": [
      "Collecting multimodal-transformers\n",
      "  Downloading multimodal_transformers-0.1.4a0.tar.gz (18 kB)\n",
      "  Preparing metadata (setup.py) ... \u001b[?25ldone\n",
      "\u001b[?25hRequirement already satisfied: torch in /opt/anaconda3/lib/python3.8/site-packages (from multimodal-transformers) (1.10.0)\n",
      "Collecting transformers==3.1\n",
      "  Downloading transformers-3.1.0-py3-none-any.whl (884 kB)\n",
      "\u001b[2K     \u001b[90m━━━━━━━━━━━━━━━━━━━━━━━━━━━━━━━━━━━━━━━\u001b[0m \u001b[32m884.0/884.0 kB\u001b[0m \u001b[31m1.6 MB/s\u001b[0m eta \u001b[36m0:00:00\u001b[0ma \u001b[36m0:00:01\u001b[0m\n",
      "\u001b[?25hRequirement already satisfied: numpy in /opt/anaconda3/lib/python3.8/site-packages (from multimodal-transformers) (1.21.5)\n",
      "Requirement already satisfied: tqdm in /opt/anaconda3/lib/python3.8/site-packages (from multimodal-transformers) (4.64.0)\n",
      "Requirement already satisfied: scipy in /opt/anaconda3/lib/python3.8/site-packages (from multimodal-transformers) (1.7.3)\n",
      "Requirement already satisfied: networkx in /opt/anaconda3/lib/python3.8/site-packages (from multimodal-transformers) (2.7.1)\n",
      "Requirement already satisfied: scikit-learn in /opt/anaconda3/lib/python3.8/site-packages (from multimodal-transformers) (1.1.1)\n",
      "Requirement already satisfied: pandas in /opt/anaconda3/lib/python3.8/site-packages (from multimodal-transformers) (1.4.2)\n",
      "Collecting tokenizers==0.8.1.rc2\n",
      "  Downloading tokenizers-0.8.1rc2-cp38-cp38-macosx_10_14_x86_64.whl (2.1 MB)\n",
      "\u001b[2K     \u001b[90m━━━━━━━━━━━━━━━━━━━━━━━━━━━━━━━━━━━━━━━━\u001b[0m \u001b[32m2.1/2.1 MB\u001b[0m \u001b[31m2.1 MB/s\u001b[0m eta \u001b[36m0:00:00\u001b[0m00:01\u001b[0m00:01\u001b[0mm\n",
      "\u001b[?25hRequirement already satisfied: regex!=2019.12.17 in /opt/anaconda3/lib/python3.8/site-packages (from transformers==3.1->multimodal-transformers) (2022.3.15)\n",
      "Requirement already satisfied: packaging in /opt/anaconda3/lib/python3.8/site-packages (from transformers==3.1->multimodal-transformers) (21.3)\n",
      "Requirement already satisfied: requests in /opt/anaconda3/lib/python3.8/site-packages (from transformers==3.1->multimodal-transformers) (2.27.1)\n",
      "Collecting sacremoses\n",
      "  Downloading sacremoses-0.0.53.tar.gz (880 kB)\n",
      "\u001b[2K     \u001b[90m━━━━━━━━━━━━━━━━━━━━━━━━━━━━━━━━━━━━━━━\u001b[0m \u001b[32m880.6/880.6 kB\u001b[0m \u001b[31m2.1 MB/s\u001b[0m eta \u001b[36m0:00:00\u001b[0m00:01\u001b[0m00:01\u001b[0m\n",
      "\u001b[?25h  Preparing metadata (setup.py) ... \u001b[?25ldone\n",
      "\u001b[?25hRequirement already satisfied: filelock in /opt/anaconda3/lib/python3.8/site-packages (from transformers==3.1->multimodal-transformers) (3.6.0)\n",
      "Requirement already satisfied: sentencepiece!=0.1.92 in /opt/anaconda3/lib/python3.8/site-packages (from transformers==3.1->multimodal-transformers) (0.1.95)\n",
      "Requirement already satisfied: python-dateutil>=2.8.1 in /opt/anaconda3/lib/python3.8/site-packages (from pandas->multimodal-transformers) (2.8.2)\n",
      "Requirement already satisfied: pytz>=2020.1 in /opt/anaconda3/lib/python3.8/site-packages (from pandas->multimodal-transformers) (2021.3)\n",
      "Requirement already satisfied: joblib>=1.0.0 in /opt/anaconda3/lib/python3.8/site-packages (from scikit-learn->multimodal-transformers) (1.1.0)\n",
      "Requirement already satisfied: threadpoolctl>=2.0.0 in /opt/anaconda3/lib/python3.8/site-packages (from scikit-learn->multimodal-transformers) (2.2.0)\n",
      "Requirement already satisfied: typing-extensions in /opt/anaconda3/lib/python3.8/site-packages (from torch->multimodal-transformers) (4.1.1)\n",
      "Requirement already satisfied: six>=1.5 in /opt/anaconda3/lib/python3.8/site-packages (from python-dateutil>=2.8.1->pandas->multimodal-transformers) (1.16.0)\n",
      "Requirement already satisfied: pyparsing!=3.0.5,>=2.0.2 in /opt/anaconda3/lib/python3.8/site-packages (from packaging->transformers==3.1->multimodal-transformers) (3.0.4)\n",
      "Requirement already satisfied: certifi>=2017.4.17 in /opt/anaconda3/lib/python3.8/site-packages (from requests->transformers==3.1->multimodal-transformers) (2022.6.15)\n",
      "Requirement already satisfied: urllib3<1.27,>=1.21.1 in /opt/anaconda3/lib/python3.8/site-packages (from requests->transformers==3.1->multimodal-transformers) (1.26.9)\n",
      "Requirement already satisfied: idna<4,>=2.5 in /opt/anaconda3/lib/python3.8/site-packages (from requests->transformers==3.1->multimodal-transformers) (3.3)\n",
      "Requirement already satisfied: charset-normalizer~=2.0.0 in /opt/anaconda3/lib/python3.8/site-packages (from requests->transformers==3.1->multimodal-transformers) (2.0.4)\n",
      "Requirement already satisfied: click in /opt/anaconda3/lib/python3.8/site-packages (from sacremoses->transformers==3.1->multimodal-transformers) (8.0.4)\n",
      "Building wheels for collected packages: multimodal-transformers, sacremoses\n",
      "  Building wheel for multimodal-transformers (setup.py) ... \u001b[?25ldone\n",
      "\u001b[?25h  Created wheel for multimodal-transformers: filename=multimodal_transformers-0.1.4a0-py3-none-any.whl size=20633 sha256=f6247ed8b24de68bfbb93677d1926d047d04048d7d58eae493310dfd4f4b5eb6\n",
      "  Stored in directory: /Users/franciscomontalvo/Library/Caches/pip/wheels/cb/81/ce/bb521aecbd6b21f191dca42bf304dac947fc173b6952f73867\n",
      "  Building wheel for sacremoses (setup.py) ... \u001b[?25ldone\n",
      "\u001b[?25h  Created wheel for sacremoses: filename=sacremoses-0.0.53-py3-none-any.whl size=895260 sha256=375faac23bf4510e00b06063eb16011012cbafcc00aa3175d865122536a647db\n",
      "  Stored in directory: /Users/franciscomontalvo/Library/Caches/pip/wheels/82/ab/9b/c15899bf659ba74f623ac776e861cf2eb8608c1825ddec66a4\n",
      "Successfully built multimodal-transformers sacremoses\n",
      "Installing collected packages: tokenizers, sacremoses, transformers, multimodal-transformers\n",
      "  Attempting uninstall: tokenizers\n",
      "    Found existing installation: tokenizers 0.12.1\n",
      "    Uninstalling tokenizers-0.12.1:\n",
      "      Successfully uninstalled tokenizers-0.12.1\n",
      "  Attempting uninstall: transformers\n",
      "    Found existing installation: transformers 4.20.1\n",
      "    Uninstalling transformers-4.20.1:\n",
      "      Successfully uninstalled transformers-4.20.1\n",
      "\u001b[31mERROR: pip's dependency resolver does not currently take into account all the packages that are installed. This behaviour is the source of the following dependency conflicts.\n",
      "flair 0.11.3 requires transformers>=4.0.0, but you have transformers 3.1.0 which is incompatible.\u001b[0m\u001b[31m\n",
      "\u001b[0mSuccessfully installed multimodal-transformers-0.1.4a0 sacremoses-0.0.53 tokenizers-0.8.1rc2 transformers-3.1.0\n",
      "Note: you may need to restart the kernel to use updated packages.\n"
     ]
    }
   ],
   "source": [
    "pip install multimodal-transformers\n"
   ]
  },
  {
   "cell_type": "code",
   "execution_count": null,
   "metadata": {},
   "outputs": [],
   "source": []
  }
 ],
 "metadata": {
  "kernelspec": {
   "display_name": "Python 3.8.2 ('base')",
   "language": "python",
   "name": "python3"
  },
  "language_info": {
   "codemirror_mode": {
    "name": "ipython",
    "version": 3
   },
   "file_extension": ".py",
   "mimetype": "text/x-python",
   "name": "python",
   "nbconvert_exporter": "python",
   "pygments_lexer": "ipython3",
   "version": "3.8.2"
  },
  "orig_nbformat": 4,
  "vscode": {
   "interpreter": {
    "hash": "40d3a090f54c6569ab1632332b64b2c03c39dcf918b08424e98f38b5ae0af88f"
   }
  }
 },
 "nbformat": 4,
 "nbformat_minor": 2
}
